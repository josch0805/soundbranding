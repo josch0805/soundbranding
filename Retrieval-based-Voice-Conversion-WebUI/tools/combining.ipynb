{
 "cells": [
  {
   "cell_type": "code",
   "execution_count": 1,
   "id": "564d77e6",
   "metadata": {},
   "outputs": [
    {
     "name": "stdout",
     "output_type": "stream",
     "text": [
      "File 1: /proj/separated/full_stems/htdemucs/Unterwegs_mit_Dir-rock12_84780563693569_converted/vocals.wav\n",
      "File 2: /proj/separated/full_stems/htdemucs/Unterwegs_mit_Dir-rock12_84780563693569_converted/other.wav\n",
      "Output: /proj/separated/full_stems/htdemucs/Unterwegs_mit_Dir-rock12_84780563693569_converted/test_combination.wav\n"
     ]
    }
   ],
   "source": [
    "import wave\n",
    "import numpy as np\n",
    "import os\n",
    "from pathlib import Path\n",
    "\n",
    "# Define your paths here\n",
    "file1_path = \"/proj/separated/full_stems/htdemucs/Unterwegs_mit_Dir-rock12_84780563693569_converted/vocals.wav\"  # Change this\n",
    "file2_path = \"/proj/separated/full_stems/htdemucs/Unterwegs_mit_Dir-rock12_84780563693569_converted/other.wav\"  # Change this\n",
    "output_dir = \"/proj/separated/full_stems/htdemucs/Unterwegs_mit_Dir-rock12_84780563693569_converted\"  # Change this\n",
    "output_filename = \"test_combination.wav\"\n",
    "\n",
    "# Create output directory if it doesn't exist\n",
    "os.makedirs(output_dir, exist_ok=True)\n",
    "output_path = os.path.join(output_dir, output_filename)\n",
    "\n",
    "print(f\"File 1: {file1_path}\")\n",
    "print(f\"File 2: {file2_path}\")\n",
    "print(f\"Output: {output_path}\")"
   ]
  },
  {
   "cell_type": "code",
   "execution_count": 2,
   "id": "17e402c8",
   "metadata": {},
   "outputs": [],
   "source": [
    "def combine_wav_files(file1_path, file2_path, output_path):\n",
    "    \"\"\"\n",
    "    Combines two WAV files by adding their audio samples together.\n",
    "    Both files must have the same sample rate, channels, and bit depth.\n",
    "    \"\"\"\n",
    "    with wave.open(file1_path, 'rb') as wav1, wave.open(file2_path, 'rb') as wav2:\n",
    "        # Get parameters from both files\n",
    "        params1 = wav1.getparams()\n",
    "        params2 = wav2.getparams()\n",
    "        \n",
    "        # Check if parameters match\n",
    "        if params1[:4] != params2[:4]:\n",
    "            print(\"❌ WAV parameters don't match!\")\n",
    "            print(f\"File 1: {params1}\")\n",
    "            print(f\"File 2: {params2}\")\n",
    "            return False\n",
    "        \n",
    "        # Read audio data\n",
    "        frames1 = wav1.readframes(params1.nframes)\n",
    "        frames2 = wav2.readframes(params2.nframes)\n",
    "        \n",
    "        # Convert to numpy arrays\n",
    "        dtype = np.int16 if params1.sampwidth == 2 else np.int8\n",
    "        arr1 = np.frombuffer(frames1, dtype=dtype)\n",
    "        arr2 = np.frombuffer(frames2, dtype=dtype)\n",
    "        \n",
    "        # Make sure both arrays have the same length (use shorter one)\n",
    "        min_len = min(len(arr1), len(arr2))\n",
    "        arr1 = arr1[:min_len]\n",
    "        arr2 = arr2[:min_len]\n",
    "        \n",
    "        print(f\"📊 Combining {min_len} samples...\")\n",
    "        \n",
    "        # Add the audio samples together (with overflow protection)\n",
    "        mixed = arr1.astype(np.int32) + arr2.astype(np.int32)\n",
    "        \n",
    "        # Prevent clipping by limiting to valid range\n",
    "        max_val = np.iinfo(dtype).max\n",
    "        min_val = np.iinfo(dtype).min\n",
    "        mixed = np.clip(mixed, min_val, max_val).astype(dtype)\n",
    "        \n",
    "        # Write the combined audio\n",
    "        with wave.open(output_path, 'wb') as out_wav:\n",
    "            out_wav.setparams(params1)\n",
    "            out_wav.writeframes(mixed.tobytes())\n",
    "        \n",
    "        print(f\"✅ Combined audio saved to: {output_path}\")\n",
    "        return True"
   ]
  },
  {
   "cell_type": "code",
   "execution_count": 3,
   "id": "a0e392a7",
   "metadata": {},
   "outputs": [
    {
     "name": "stdout",
     "output_type": "stream",
     "text": [
      "📊 Combining 11201184 samples...\n",
      "✅ Combined audio saved to: /proj/separated/full_stems/htdemucs/Unterwegs_mit_Dir-rock12_84780563693569_converted/test_combination.wav\n",
      "🎵 Successfully combined audio files!\n",
      "📁 Output saved to: /proj/separated/full_stems/htdemucs/Unterwegs_mit_Dir-rock12_84780563693569_converted/test_combination.wav\n",
      "📊 Output file size: 21.36 MB\n"
     ]
    }
   ],
   "source": [
    "# Check if input files exist\n",
    "if not os.path.exists(file1_path):\n",
    "    print(f\"❌ File 1 not found: {file1_path}\")\n",
    "elif not os.path.exists(file2_path):\n",
    "    print(f\"❌ File 2 not found: {file2_path}\")\n",
    "else:\n",
    "    # Combine the files\n",
    "    success = combine_wav_files(file1_path, file2_path, output_path)\n",
    "    \n",
    "    if success:\n",
    "        print(f\"🎵 Successfully combined audio files!\")\n",
    "        print(f\"📁 Output saved to: {output_path}\")\n",
    "        \n",
    "        # Show file size\n",
    "        file_size = os.path.getsize(output_path) / (1024 * 1024)  # MB\n",
    "        print(f\"📊 Output file size: {file_size:.2f} MB\")"
   ]
  }
 ],
 "metadata": {
  "kernelspec": {
   "display_name": "Python 3",
   "language": "python",
   "name": "python3"
  },
  "language_info": {
   "codemirror_mode": {
    "name": "ipython",
    "version": 3
   },
   "file_extension": ".py",
   "mimetype": "text/x-python",
   "name": "python",
   "nbconvert_exporter": "python",
   "pygments_lexer": "ipython3",
   "version": "3.10.12"
  }
 },
 "nbformat": 4,
 "nbformat_minor": 5
}
